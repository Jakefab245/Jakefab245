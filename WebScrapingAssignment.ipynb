{
 "cells": [
  {
   "cell_type": "code",
   "execution_count": 1,
   "metadata": {},
   "outputs": [],
   "source": [
    "import requests \n",
    "import pandas as pd \n",
    "from bs4 import BeautifulSoup"
   ]
  },
  {
   "cell_type": "code",
   "execution_count": null,
   "metadata": {},
   "outputs": [
    {
     "data": {
      "application/vnd.hex.export+parquet": {
       "exportKey": "85371e2a-dc5e-44c9-8028-8d17b3d18e74/677114d7-89b2-4221-87b5-08fbac2fb7f8/exports/60b3756e-0268-4794-9f90-1242df56a816",
       "success": true
      },
      "text/html": [
       "<div>\n",
       "<style scoped>\n",
       "    .dataframe tbody tr th:only-of-type {\n",
       "        vertical-align: middle;\n",
       "    }\n",
       "\n",
       "    .dataframe tbody tr th {\n",
       "        vertical-align: top;\n",
       "    }\n",
       "\n",
       "    .dataframe thead th {\n",
       "        text-align: right;\n",
       "    }\n",
       "</style>\n",
       "<table border=\"1\" class=\"dataframe\">\n",
       "  <thead>\n",
       "    <tr style=\"text-align: right;\">\n",
       "      <th></th>\n",
       "      <th>Student</th>\n",
       "      <th>Favourite Computer Language</th>\n",
       "      <th>Years of Experience</th>\n",
       "    </tr>\n",
       "  </thead>\n",
       "  <tbody>\n",
       "    <tr>\n",
       "      <th>0</th>\n",
       "      <td>Fred</td>\n",
       "      <td>Kotlin</td>\n",
       "      <td>4</td>\n",
       "    </tr>\n",
       "    <tr>\n",
       "      <th>1</th>\n",
       "      <td>Paula</td>\n",
       "      <td>Python</td>\n",
       "      <td>2</td>\n",
       "    </tr>\n",
       "    <tr>\n",
       "      <th>2</th>\n",
       "      <td>Ernst</td>\n",
       "      <td>Java</td>\n",
       "      <td>7</td>\n",
       "    </tr>\n",
       "    <tr>\n",
       "      <th>3</th>\n",
       "      <td>Isabel</td>\n",
       "      <td>C++</td>\n",
       "      <td>3</td>\n",
       "    </tr>\n",
       "    <tr>\n",
       "      <th>4</th>\n",
       "      <td>Tony</td>\n",
       "      <td>Pearl</td>\n",
       "      <td>7</td>\n",
       "    </tr>\n",
       "    <tr>\n",
       "      <th>5</th>\n",
       "      <td>Maria</td>\n",
       "      <td>Cobol</td>\n",
       "      <td>15</td>\n",
       "    </tr>\n",
       "  </tbody>\n",
       "</table>\n",
       "</div>"
      ]
     },
     "execution_count": null,
     "metadata": {},
     "output_type": "execute_result"
    }
   ],
   "source": [
    "url=\"https://webpages.charlotte.edu/mscipion/\"\n",
    "#HTTP request \n",
    "rep=requests.get(url) \n",
    "\n",
    "#Creating Beautiful Soup object \n",
    "soup = BeautifulSoup(rep.text,\"lxml\") \n",
    "\n",
    "#Finding a table \n",
    "table=soup.find(\"table\") \n",
    "headers=table.find_all(\"th\") \n",
    "titles=[] \n",
    "for m in headers: \n",
    "    title=m.text \n",
    "    titles.append(title) \n",
    "\n",
    "#Creating an empty Data Frame \n",
    "df=pd.DataFrame(columns=titles)\n",
    "df.head() \n",
    "\n",
    "#Finding all Data rows \n",
    "rower=table.find_all(\"tr\") \n",
    "\n",
    "#Iterating through rows \n",
    "for p in rower[1:]: \n",
    "    dater=p.find_all(\"td\") \n",
    "    rows=[tr.text for tr in dater]\n",
    "    l=len(df) \n",
    "    df.loc[l]=rows \n",
    "df "
   ]
  }
 ],
 "metadata": {
  "hex_info": {
   "author": "Jake Fabrizio",
   "exported_date": "Fri Feb 09 2024 00:08:56 GMT+0000 (Coordinated Universal Time)",
   "project_id": "677114d7-89b2-4221-87b5-08fbac2fb7f8",
   "version": "draft"
  },
  "kernelspec": {
   "display_name": "Python 3 (ipykernel)",
   "language": "python",
   "name": "python3"
  },
  "language_info": {
   "codemirror_mode": {
    "name": "ipython",
    "version": 3
   },
   "file_extension": ".py",
   "mimetype": "text/x-python",
   "name": "python",
   "nbconvert_exporter": "python",
   "pygments_lexer": "ipython3",
   "version": "3.9.13"
  }
 },
 "nbformat": 4,
 "nbformat_minor": 4
}
